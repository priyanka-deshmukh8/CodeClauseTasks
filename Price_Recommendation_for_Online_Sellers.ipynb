{
  "nbformat": 4,
  "nbformat_minor": 0,
  "metadata": {
    "colab": {
      "provenance": []
    },
    "kernelspec": {
      "name": "python3",
      "display_name": "Python 3"
    },
    "language_info": {
      "name": "python"
    }
  },
  "cells": [
    {
      "cell_type": "code",
      "execution_count": 2,
      "metadata": {
        "id": "6ffIhdQSIBQ7"
      },
      "outputs": [],
      "source": [
        "import gc\n",
        "import time\n",
        "import numpy as np\n",
        "import pandas as pd\n",
        "import matplotlib.pyplot as plt\n",
        "import seaborn as sns\n",
        "from scipy.sparse import csr_matrix, hstack\n",
        "from sklearn.feature_extraction.text import CountVectorizer, TfidfVectorizer\n",
        "from sklearn.preprocessing import LabelBinarizer\n",
        "from sklearn.model_selection import train_test_split, cross_val_score\n",
        "from sklearn.metrics import mean_squared_error\n",
        "import lightgbm as lgb\n",
        "df = pd.read_csv('train.tsv', sep = '\\t')"
      ]
    },
    {
      "cell_type": "code",
      "source": [
        "msk = np.random.rand(len(df)) < 0.8\n",
        "train = df[msk]\n",
        "test = df[~msk]\n",
        "train.shape, test.shape"
      ],
      "metadata": {
        "colab": {
          "base_uri": "https://localhost:8080/"
        },
        "id": "QHemqprdNRy1",
        "outputId": "fe71e969-ab52-4a52-ea50-8cbd2b106360"
      },
      "execution_count": 3,
      "outputs": [
        {
          "output_type": "execute_result",
          "data": {
            "text/plain": [
              "((380542, 8), (94613, 8))"
            ]
          },
          "metadata": {},
          "execution_count": 3
        }
      ]
    },
    {
      "cell_type": "code",
      "source": [
        "train.head()"
      ],
      "metadata": {
        "colab": {
          "base_uri": "https://localhost:8080/",
          "height": 206
        },
        "id": "qEVf4F1DNVD1",
        "outputId": "b1b3acf3-40c5-4217-a15f-c2d366ca2db4"
      },
      "execution_count": 4,
      "outputs": [
        {
          "output_type": "execute_result",
          "data": {
            "text/plain": [
              "   train_id                                name  item_condition_id  \\\n",
              "2         2                      AVA-VIV Blouse                  1   \n",
              "3         3               Leather Horse Statues                  1   \n",
              "4         4                24K GOLD plated rose                  1   \n",
              "5         5    Bundled items requested for Ruie                  3   \n",
              "6         6  Acacia pacific tides santorini top                  3   \n",
              "\n",
              "                        category_name       brand_name  price  shipping  \\\n",
              "2         Women/Tops & Blouses/Blouse           Target   10.0         1   \n",
              "3  Home/Home Décor/Home Décor Accents              NaN   35.0         1   \n",
              "4             Women/Jewelry/Necklaces              NaN   44.0         0   \n",
              "5                   Women/Other/Other              NaN   59.0         0   \n",
              "6            Women/Swimwear/Two-Piece  Acacia Swimwear   64.0         0   \n",
              "\n",
              "                                    item_description  \n",
              "2  Adorable top with a hint of lace and a key hol...  \n",
              "3  New with tags. Leather horses. Retail for [rm]...  \n",
              "4          Complete with certificate of authenticity  \n",
              "5  Banana republic bottoms, Candies skirt with ma...  \n",
              "6  Size small but straps slightly shortened to fi...  "
            ],
            "text/html": [
              "\n",
              "  <div id=\"df-0500923a-ed18-4e6f-bad6-e595538db2a1\">\n",
              "    <div class=\"colab-df-container\">\n",
              "      <div>\n",
              "<style scoped>\n",
              "    .dataframe tbody tr th:only-of-type {\n",
              "        vertical-align: middle;\n",
              "    }\n",
              "\n",
              "    .dataframe tbody tr th {\n",
              "        vertical-align: top;\n",
              "    }\n",
              "\n",
              "    .dataframe thead th {\n",
              "        text-align: right;\n",
              "    }\n",
              "</style>\n",
              "<table border=\"1\" class=\"dataframe\">\n",
              "  <thead>\n",
              "    <tr style=\"text-align: right;\">\n",
              "      <th></th>\n",
              "      <th>train_id</th>\n",
              "      <th>name</th>\n",
              "      <th>item_condition_id</th>\n",
              "      <th>category_name</th>\n",
              "      <th>brand_name</th>\n",
              "      <th>price</th>\n",
              "      <th>shipping</th>\n",
              "      <th>item_description</th>\n",
              "    </tr>\n",
              "  </thead>\n",
              "  <tbody>\n",
              "    <tr>\n",
              "      <th>2</th>\n",
              "      <td>2</td>\n",
              "      <td>AVA-VIV Blouse</td>\n",
              "      <td>1</td>\n",
              "      <td>Women/Tops &amp; Blouses/Blouse</td>\n",
              "      <td>Target</td>\n",
              "      <td>10.0</td>\n",
              "      <td>1</td>\n",
              "      <td>Adorable top with a hint of lace and a key hol...</td>\n",
              "    </tr>\n",
              "    <tr>\n",
              "      <th>3</th>\n",
              "      <td>3</td>\n",
              "      <td>Leather Horse Statues</td>\n",
              "      <td>1</td>\n",
              "      <td>Home/Home Décor/Home Décor Accents</td>\n",
              "      <td>NaN</td>\n",
              "      <td>35.0</td>\n",
              "      <td>1</td>\n",
              "      <td>New with tags. Leather horses. Retail for [rm]...</td>\n",
              "    </tr>\n",
              "    <tr>\n",
              "      <th>4</th>\n",
              "      <td>4</td>\n",
              "      <td>24K GOLD plated rose</td>\n",
              "      <td>1</td>\n",
              "      <td>Women/Jewelry/Necklaces</td>\n",
              "      <td>NaN</td>\n",
              "      <td>44.0</td>\n",
              "      <td>0</td>\n",
              "      <td>Complete with certificate of authenticity</td>\n",
              "    </tr>\n",
              "    <tr>\n",
              "      <th>5</th>\n",
              "      <td>5</td>\n",
              "      <td>Bundled items requested for Ruie</td>\n",
              "      <td>3</td>\n",
              "      <td>Women/Other/Other</td>\n",
              "      <td>NaN</td>\n",
              "      <td>59.0</td>\n",
              "      <td>0</td>\n",
              "      <td>Banana republic bottoms, Candies skirt with ma...</td>\n",
              "    </tr>\n",
              "    <tr>\n",
              "      <th>6</th>\n",
              "      <td>6</td>\n",
              "      <td>Acacia pacific tides santorini top</td>\n",
              "      <td>3</td>\n",
              "      <td>Women/Swimwear/Two-Piece</td>\n",
              "      <td>Acacia Swimwear</td>\n",
              "      <td>64.0</td>\n",
              "      <td>0</td>\n",
              "      <td>Size small but straps slightly shortened to fi...</td>\n",
              "    </tr>\n",
              "  </tbody>\n",
              "</table>\n",
              "</div>\n",
              "      <button class=\"colab-df-convert\" onclick=\"convertToInteractive('df-0500923a-ed18-4e6f-bad6-e595538db2a1')\"\n",
              "              title=\"Convert this dataframe to an interactive table.\"\n",
              "              style=\"display:none;\">\n",
              "        \n",
              "  <svg xmlns=\"http://www.w3.org/2000/svg\" height=\"24px\"viewBox=\"0 0 24 24\"\n",
              "       width=\"24px\">\n",
              "    <path d=\"M0 0h24v24H0V0z\" fill=\"none\"/>\n",
              "    <path d=\"M18.56 5.44l.94 2.06.94-2.06 2.06-.94-2.06-.94-.94-2.06-.94 2.06-2.06.94zm-11 1L8.5 8.5l.94-2.06 2.06-.94-2.06-.94L8.5 2.5l-.94 2.06-2.06.94zm10 10l.94 2.06.94-2.06 2.06-.94-2.06-.94-.94-2.06-.94 2.06-2.06.94z\"/><path d=\"M17.41 7.96l-1.37-1.37c-.4-.4-.92-.59-1.43-.59-.52 0-1.04.2-1.43.59L10.3 9.45l-7.72 7.72c-.78.78-.78 2.05 0 2.83L4 21.41c.39.39.9.59 1.41.59.51 0 1.02-.2 1.41-.59l7.78-7.78 2.81-2.81c.8-.78.8-2.07 0-2.86zM5.41 20L4 18.59l7.72-7.72 1.47 1.35L5.41 20z\"/>\n",
              "  </svg>\n",
              "      </button>\n",
              "      \n",
              "  <style>\n",
              "    .colab-df-container {\n",
              "      display:flex;\n",
              "      flex-wrap:wrap;\n",
              "      gap: 12px;\n",
              "    }\n",
              "\n",
              "    .colab-df-convert {\n",
              "      background-color: #E8F0FE;\n",
              "      border: none;\n",
              "      border-radius: 50%;\n",
              "      cursor: pointer;\n",
              "      display: none;\n",
              "      fill: #1967D2;\n",
              "      height: 32px;\n",
              "      padding: 0 0 0 0;\n",
              "      width: 32px;\n",
              "    }\n",
              "\n",
              "    .colab-df-convert:hover {\n",
              "      background-color: #E2EBFA;\n",
              "      box-shadow: 0px 1px 2px rgba(60, 64, 67, 0.3), 0px 1px 3px 1px rgba(60, 64, 67, 0.15);\n",
              "      fill: #174EA6;\n",
              "    }\n",
              "\n",
              "    [theme=dark] .colab-df-convert {\n",
              "      background-color: #3B4455;\n",
              "      fill: #D2E3FC;\n",
              "    }\n",
              "\n",
              "    [theme=dark] .colab-df-convert:hover {\n",
              "      background-color: #434B5C;\n",
              "      box-shadow: 0px 1px 3px 1px rgba(0, 0, 0, 0.15);\n",
              "      filter: drop-shadow(0px 1px 2px rgba(0, 0, 0, 0.3));\n",
              "      fill: #FFFFFF;\n",
              "    }\n",
              "  </style>\n",
              "\n",
              "      <script>\n",
              "        const buttonEl =\n",
              "          document.querySelector('#df-0500923a-ed18-4e6f-bad6-e595538db2a1 button.colab-df-convert');\n",
              "        buttonEl.style.display =\n",
              "          google.colab.kernel.accessAllowed ? 'block' : 'none';\n",
              "\n",
              "        async function convertToInteractive(key) {\n",
              "          const element = document.querySelector('#df-0500923a-ed18-4e6f-bad6-e595538db2a1');\n",
              "          const dataTable =\n",
              "            await google.colab.kernel.invokeFunction('convertToInteractive',\n",
              "                                                     [key], {});\n",
              "          if (!dataTable) return;\n",
              "\n",
              "          const docLinkHtml = 'Like what you see? Visit the ' +\n",
              "            '<a target=\"_blank\" href=https://colab.research.google.com/notebooks/data_table.ipynb>data table notebook</a>'\n",
              "            + ' to learn more about interactive tables.';\n",
              "          element.innerHTML = '';\n",
              "          dataTable['output_type'] = 'display_data';\n",
              "          await google.colab.output.renderOutput(dataTable, element);\n",
              "          const docLink = document.createElement('div');\n",
              "          docLink.innerHTML = docLinkHtml;\n",
              "          element.appendChild(docLink);\n",
              "        }\n",
              "      </script>\n",
              "    </div>\n",
              "  </div>\n",
              "  "
            ]
          },
          "metadata": {},
          "execution_count": 4
        }
      ]
    },
    {
      "cell_type": "code",
      "source": [
        "train.info()"
      ],
      "metadata": {
        "colab": {
          "base_uri": "https://localhost:8080/"
        },
        "id": "RtZJVPrwNYUD",
        "outputId": "6c5e2485-6ba4-49c7-bbbb-29468978fd6f"
      },
      "execution_count": 5,
      "outputs": [
        {
          "output_type": "stream",
          "name": "stdout",
          "text": [
            "<class 'pandas.core.frame.DataFrame'>\n",
            "Int64Index: 380542 entries, 2 to 475154\n",
            "Data columns (total 8 columns):\n",
            " #   Column             Non-Null Count   Dtype  \n",
            "---  ------             --------------   -----  \n",
            " 0   train_id           380542 non-null  int64  \n",
            " 1   name               380542 non-null  object \n",
            " 2   item_condition_id  380542 non-null  int64  \n",
            " 3   category_name      378925 non-null  object \n",
            " 4   brand_name         218048 non-null  object \n",
            " 5   price              380542 non-null  float64\n",
            " 6   shipping           380542 non-null  int64  \n",
            " 7   item_description   380542 non-null  object \n",
            "dtypes: float64(1), int64(3), object(4)\n",
            "memory usage: 26.1+ MB\n"
          ]
        }
      ]
    },
    {
      "cell_type": "markdown",
      "source": [
        "# Price"
      ],
      "metadata": {
        "id": "V48dZmxkNbOA"
      }
    },
    {
      "cell_type": "code",
      "source": [
        "train.price.describe()"
      ],
      "metadata": {
        "colab": {
          "base_uri": "https://localhost:8080/"
        },
        "id": "B3r1KU-SNaO0",
        "outputId": "9e87ac14-040b-49f3-d100-eee95506a9d6"
      },
      "execution_count": 6,
      "outputs": [
        {
          "output_type": "execute_result",
          "data": {
            "text/plain": [
              "count    380542.000000\n",
              "mean         26.725277\n",
              "std          38.403293\n",
              "min           0.000000\n",
              "25%          10.000000\n",
              "50%          17.000000\n",
              "75%          29.000000\n",
              "max        2000.000000\n",
              "Name: price, dtype: float64"
            ]
          },
          "metadata": {},
          "execution_count": 6
        }
      ]
    },
    {
      "cell_type": "markdown",
      "source": [
        "The price of items are right skewed, vast majority of the items priced at 10–20. However, the most expensive item priced at 2009. So we will make log-transformation on the price."
      ],
      "metadata": {
        "id": "xB_hdU6eNgmK"
      }
    },
    {
      "cell_type": "code",
      "source": [
        "plt.subplot(1, 2, 1)\n",
        "(train['price']).plot.hist(bins=50, figsize=(12, 6), edgecolor = 'white', range = [0, 250])\n",
        "plt.xlabel('price', fontsize=12)\n",
        "plt.title('Price Distribution', fontsize=12)\n",
        "plt.subplot(1, 2, 2)\n",
        "np.log(train['price']+1).plot.hist(bins=50, figsize=(12,6), edgecolor='white')\n",
        "plt.xlabel('log(price+1)', fontsize=12)\n",
        "plt.title('Price Distribution', fontsize=12)"
      ],
      "metadata": {
        "colab": {
          "base_uri": "https://localhost:8080/",
          "height": 424
        },
        "id": "QpZ1ifUBNhNR",
        "outputId": "7287c795-ebfe-4cb6-fc25-634266ee582f"
      },
      "execution_count": 7,
      "outputs": [
        {
          "output_type": "execute_result",
          "data": {
            "text/plain": [
              "Text(0.5, 1.0, 'Price Distribution')"
            ]
          },
          "metadata": {},
          "execution_count": 7
        },
        {
          "output_type": "display_data",
          "data": {
            "text/plain": [
              "<Figure size 864x432 with 2 Axes>"
            ],
            "image/png": "[encoded data removed]"
          },
          "metadata": {
            "needs_background": "light"
          }
        }
      ]
    },
    {
      "cell_type": "markdown",
      "source": [
        "# Shipping\n",
        "\n",
        "Over 55% of items shipping fee were paid by the buyers."
      ],
      "metadata": {
        "id": "fNYDFxUcNkGo"
      }
    },
    {
      "cell_type": "code",
      "source": [
        "train['shipping'].value_counts() / len(train)"
      ],
      "metadata": {
        "colab": {
          "base_uri": "https://localhost:8080/"
        },
        "id": "Y_FWk-2wNlui",
        "outputId": "ee686157-4f55-4311-a811-193cc563eb22"
      },
      "execution_count": 8,
      "outputs": [
        {
          "output_type": "execute_result",
          "data": {
            "text/plain": [
              "0    0.553621\n",
              "1    0.446379\n",
              "Name: shipping, dtype: float64"
            ]
          },
          "metadata": {},
          "execution_count": 8
        }
      ]
    },
    {
      "cell_type": "markdown",
      "source": [
        "How shipping related to the price?"
      ],
      "metadata": {
        "id": "qdZNutm4NoHo"
      }
    },
    {
      "cell_type": "code",
      "source": [
        "shipping_fee_by_buyer = train.loc[df['shipping'] == 0, 'price']\n",
        "shipping_fee_by_seller = train.loc[df['shipping'] == 1, 'price']\n",
        "fig, ax = plt.subplots(figsize=(18,8))\n",
        "ax.hist(shipping_fee_by_seller, color='#8CB4E1', alpha=1.0, bins=50, range = [0, 100],\n",
        "       label='Price when Seller pays Shipping')\n",
        "ax.hist(shipping_fee_by_buyer, color='#007D00', alpha=0.7, bins=50, range = [0, 100],\n",
        "       label='Price when Buyer pays Shipping')\n",
        "plt.xlabel('price', fontsize=12)\n",
        "plt.ylabel('frequency', fontsize=12)\n",
        "plt.title('Price Distribution by Shipping Type', fontsize=15)\n",
        "plt.tick_params(labelsize=12)\n",
        "plt.legend()\n",
        "plt.show()"
      ],
      "metadata": {
        "colab": {
          "base_uri": "https://localhost:8080/",
          "height": 521
        },
        "id": "Nl81VavVNp2r",
        "outputId": "84867570-6429-4745-f998-4c949389d73d"
      },
      "execution_count": 9,
      "outputs": [
        {
          "output_type": "display_data",
          "data": {
            "text/plain": [
              "<Figure size 1296x576 with 1 Axes>"
            ],
            "image/png": "[encoded data removed]"
          },
          "metadata": {
            "needs_background": "light"
          }
        }
      ]
    },
    {
      "cell_type": "markdown",
      "source": [
        "*The average price is 22.58 if seller pays shipping*\n",
        "\n",
        "*The average price is 30.11 if buyer pays shipping*\n",
        "\n",
        "**We compare again after log-transformation on the price.**"
      ],
      "metadata": {
        "id": "HS4YYrr8NtVy"
      }
    },
    {
      "cell_type": "code",
      "source": [
        "fig, ax = plt.subplots(figsize=(18,8))\n",
        "ax.hist(np.log(shipping_fee_by_seller+1), color='#8CB4E1', alpha=1.0, bins=50,\n",
        "       label='Price when Seller pays Shipping')\n",
        "ax.hist(np.log(shipping_fee_by_buyer+1), color='#007D00', alpha=0.7, bins=50,\n",
        "       label='Price when Buyer pays Shipping')\n",
        "plt.xlabel('log(price+1)', fontsize=12)\n",
        "plt.ylabel('frequency', fontsize=12)\n",
        "plt.title('Price Distribution by Shipping Type', fontsize=15)\n",
        "plt.tick_params(labelsize=12)\n",
        "plt.legend()\n",
        "plt.show()"
      ],
      "metadata": {
        "colab": {
          "base_uri": "https://localhost:8080/",
          "height": 521
        },
        "id": "CIE6YIXYNvk9",
        "outputId": "0026b50d-09f4-4ebd-d030-bca69d9ae87f"
      },
      "execution_count": 10,
      "outputs": [
        {
          "output_type": "display_data",
          "data": {
            "text/plain": [
              "<Figure size 1296x576 with 1 Axes>"
            ],
            "image/png": "[encoded data removed]"
          },
          "metadata": {
            "needs_background": "light"
          }
        }
      ]
    },
    {
      "cell_type": "markdown",
      "source": [
        "It is obvious that the average price is higher when buyer pays shipping."
      ],
      "metadata": {
        "id": "N-llnWmiNzLI"
      }
    },
    {
      "cell_type": "markdown",
      "source": [
        "**Category** **Names**"
      ],
      "metadata": {
        "id": "zhbS0ekRN0ws"
      }
    },
    {
      "cell_type": "code",
      "source": [
        "print('There are', train['category_name'].nunique(), 'unique values in category name column')"
      ],
      "metadata": {
        "colab": {
          "base_uri": "https://localhost:8080/"
        },
        "id": "1b0WT6_tNvqk",
        "outputId": "155d120d-0e18-4fc8-9e7f-7135cb2caa7b"
      },
      "execution_count": 11,
      "outputs": [
        {
          "output_type": "stream",
          "name": "stdout",
          "text": [
            "There are 1148 unique values in category name column\n"
          ]
        }
      ]
    },
    {
      "cell_type": "markdown",
      "source": [
        "Top 10 most common category names:"
      ],
      "metadata": {
        "id": "bi8bPY30N8Tr"
      }
    },
    {
      "cell_type": "code",
      "source": [
        "train['category_name'].value_counts()[:10]"
      ],
      "metadata": {
        "colab": {
          "base_uri": "https://localhost:8080/"
        },
        "id": "MSuypPlmOAq2",
        "outputId": "f07c584a-8de0-4589-a7b4-c392929741ce"
      },
      "execution_count": 13,
      "outputs": [
        {
          "output_type": "execute_result",
          "data": {
            "text/plain": [
              "Women/Athletic Apparel/Pants, Tights, Leggings                 15329\n",
              "Women/Tops & Blouses/T-Shirts                                  11977\n",
              "Beauty/Makeup/Face                                              8819\n",
              "Beauty/Makeup/Lips                                              7616\n",
              "Electronics/Video Games & Consoles/Games                        6835\n",
              "Beauty/Makeup/Eyes                                              6525\n",
              "Electronics/Cell Phones & Accessories/Cases, Covers & Skins     6445\n",
              "Women/Underwear/Bras                                            5570\n",
              "Women/Tops & Blouses/Tank, Cami                                 5233\n",
              "Women/Tops & Blouses/Blouse                                     5198\n",
              "Name: category_name, dtype: int64"
            ]
          },
          "metadata": {},
          "execution_count": 13
        }
      ]
    },
    {
      "cell_type": "markdown",
      "source": [
        "Item condition vs. Price"
      ],
      "metadata": {
        "id": "55ET_XGWOCQ0"
      }
    },
    {
      "cell_type": "code",
      "source": [
        "sns.boxplot(x = 'item_condition_id', y = np.log(train['price']+1), data = train, palette = sns.color_palette('RdBu',5))\n"
      ],
      "metadata": {
        "colab": {
          "base_uri": "https://localhost:8080/",
          "height": 297
        },
        "id": "Aqx7anH0OC1z",
        "outputId": "830649d4-5d18-492e-e417-edc2c1e23824"
      },
      "execution_count": 14,
      "outputs": [
        {
          "output_type": "execute_result",
          "data": {
            "text/plain": [
              "<matplotlib.axes._subplots.AxesSubplot at 0x7f635caf8190>"
            ]
          },
          "metadata": {},
          "execution_count": 14
        },
        {
          "output_type": "display_data",
          "data": {
            "text/plain": [
              "<Figure size 432x288 with 1 Axes>"
            ],
            "image/png": "[encoded data removed]"
          },
          "metadata": {
            "needs_background": "light"
          }
        }
      ]
    },
    {
      "cell_type": "code",
      "source": [
        "NUM_BRANDS = 4000\n",
        "NUM_CATEGORIES = 1000\n",
        "NAME_MIN_DF = 10\n",
        "MAX_FEATURES_ITEM_DESCRIPTION = 50000"
      ],
      "metadata": {
        "id": "dgHucD1uOIc7"
      },
      "execution_count": 15,
      "outputs": []
    },
    {
      "cell_type": "markdown",
      "source": [
        "There are missing values in the columns that we have to fix:"
      ],
      "metadata": {
        "id": "eooFCRYlOK3g"
      }
    },
    {
      "cell_type": "code",
      "source": [
        "print('There are %d items that do not have a category name.' %train['category_name'].isnull().sum())"
      ],
      "metadata": {
        "colab": {
          "base_uri": "https://localhost:8080/"
        },
        "id": "ecDeDl2POJTx",
        "outputId": "0b67307f-9b1f-4028-d7e1-fb97cf891331"
      },
      "execution_count": 16,
      "outputs": [
        {
          "output_type": "stream",
          "name": "stdout",
          "text": [
            "There are 1617 items that do not have a category name.\n"
          ]
        }
      ]
    },
    {
      "cell_type": "code",
      "source": [
        "print('There are %d items that do not have a brand name.' %train['brand_name'].isnull().sum())"
      ],
      "metadata": {
        "colab": {
          "base_uri": "https://localhost:8080/"
        },
        "id": "-hCPdKL7OQYG",
        "outputId": "81d6a035-c413-41a6-face-00e800e4440f"
      },
      "execution_count": 17,
      "outputs": [
        {
          "output_type": "stream",
          "name": "stdout",
          "text": [
            "There are 162494 items that do not have a brand name.\n"
          ]
        }
      ]
    },
    {
      "cell_type": "code",
      "source": [
        "print('There are %d items that do not have a description.' %train['item_description'].isnull().sum())"
      ],
      "metadata": {
        "colab": {
          "base_uri": "https://localhost:8080/"
        },
        "id": "MOkOgXRTOS7R",
        "outputId": "0ab926ef-4a4d-4702-f698-02077d402635"
      },
      "execution_count": 18,
      "outputs": [
        {
          "output_type": "stream",
          "name": "stdout",
          "text": [
            "There are 0 items that do not have a description.\n"
          ]
        }
      ]
    },
    {
      "cell_type": "code",
      "source": [
        "def handle_missing_inplace(dataset): \n",
        "    dataset['category_name'].fillna(value='missing', inplace=True) \n",
        "    dataset['brand_name'].fillna(value='missing', inplace=True) \n",
        "    dataset['item_description'].replace('No description yet,''missing', inplace=True) \n",
        "    dataset['item_description'].fillna(value='missing', inplace=True)\n",
        "def cutting(dataset):\n",
        "    pop_brand = dataset['brand_name'].value_counts().loc[lambda x: x.index != 'missing'].index[:NUM_BRANDS]\n",
        "    dataset.loc[~dataset['brand_name'].isin(pop_brand), 'brand_name'] = 'missing'\n",
        "    pop_category = dataset['category_name'].value_counts().loc[lambda x: x.index != 'missing'].index[:NUM_CATEGORIES]\n",
        "def to_categorical(dataset):\n",
        "    dataset['category_name'] = dataset['category_name'].astype('category')\n",
        "    dataset['brand_name'] = dataset['brand_name'].astype('category')\n",
        "    dataset['item_condition_id'] = dataset['item_condition_id'].astype('category')"
      ],
      "metadata": {
        "id": "p74lh9h-OU68"
      },
      "execution_count": 19,
      "outputs": []
    },
    {
      "cell_type": "code",
      "source": [
        "df = pd.read_csv('train.tsv', sep = '\\t')\n",
        "msk = np.random.rand(len(df)) < 0.8\n",
        "train = df[msk]\n",
        "test = df[~msk]\n",
        "test_new = test.drop('price', axis=1)\n",
        "y_test = np.log1p(test[\"price\"])\n",
        "train = train[train.price != 0].reset_index(drop=True)"
      ],
      "metadata": {
        "id": "GCCbUCoEOdOX"
      },
      "execution_count": 20,
      "outputs": []
    },
    {
      "cell_type": "markdown",
      "source": [
        "Merge train and new test data."
      ],
      "metadata": {
        "id": "UaTn0PehOf1m"
      }
    },
    {
      "cell_type": "code",
      "source": [
        "nrow_train = train.shape[0]\n",
        "y = np.log1p(train[\"price\"])\n",
        "merge: pd.DataFrame = pd.concat([train, test_new])"
      ],
      "metadata": {
        "id": "4WwAiF2vOgsX"
      },
      "execution_count": 21,
      "outputs": []
    },
    {
      "cell_type": "markdown",
      "source": [
        "*Training Preparation*"
      ],
      "metadata": {
        "id": "X85twm0SOiud"
      }
    },
    {
      "cell_type": "code",
      "source": [
        "handle_missing_inplace(merge)\n",
        "cutting(merge)\n",
        "to_categorical(merge)"
      ],
      "metadata": {
        "id": "Tm5xG_fgOiTh"
      },
      "execution_count": 22,
      "outputs": []
    },
    {
      "cell_type": "markdown",
      "source": [
        "# Count vectorize name and category name columns."
      ],
      "metadata": {
        "id": "gumovMNsOlt9"
      }
    },
    {
      "cell_type": "code",
      "source": [
        "cv = CountVectorizer(min_df=NAME_MIN_DF)\n",
        "X_name = cv.fit_transform(merge['name'])\n",
        "cv = CountVectorizer()\n",
        "X_category = cv.fit_transform(merge['category_name'])"
      ],
      "metadata": {
        "id": "YzTBGWZ4OqGH"
      },
      "execution_count": 23,
      "outputs": []
    },
    {
      "cell_type": "markdown",
      "source": [
        "TF-IDF Vectorize item_description column."
      ],
      "metadata": {
        "id": "iXFZx75IOsEx"
      }
    },
    {
      "cell_type": "code",
      "source": [
        "tv = TfidfVectorizer(max_features=MAX_FEATURES_ITEM_DESCRIPTION, ngram_range=(1, 3), stop_words='english')\n",
        "X_description = tv.fit_transform(merge['item_description'])"
      ],
      "metadata": {
        "id": "DVRjuKmpOqMS"
      },
      "execution_count": 24,
      "outputs": []
    },
    {
      "cell_type": "markdown",
      "source": [
        "\n",
        "# Label binarize brand_name column."
      ],
      "metadata": {
        "id": "wbJWqSnnOwSz"
      }
    },
    {
      "cell_type": "code",
      "source": [
        "lb = LabelBinarizer(sparse_output=True)\n",
        "X_brand = lb.fit_transform(merge['brand_name'])"
      ],
      "metadata": {
        "id": "ytiTkXRdOyh5"
      },
      "execution_count": 25,
      "outputs": []
    },
    {
      "cell_type": "markdown",
      "source": [
        "Create dummy variables for item_condition_id and shipping columns."
      ],
      "metadata": {
        "id": "nif7mXdLO6MO"
      }
    },
    {
      "cell_type": "code",
      "source": [
        "X_dummies = csr_matrix(pd.get_dummies(merge[['item_condition_id', 'shipping']], sparse=True).values)"
      ],
      "metadata": {
        "id": "ss0LLoQ5O4vd"
      },
      "execution_count": 26,
      "outputs": []
    },
    {
      "cell_type": "markdown",
      "source": [
        "Create sparse merge."
      ],
      "metadata": {
        "id": "c3iLL452PBRc"
      }
    },
    {
      "cell_type": "code",
      "source": [
        "sparse_merge = hstack((X_dummies, X_description, X_brand, X_category, X_name)).tocsr()"
      ],
      "metadata": {
        "id": "td0jG7ccPC5S"
      },
      "execution_count": 27,
      "outputs": []
    },
    {
      "cell_type": "markdown",
      "source": [
        "Remove features with document frequency <=1."
      ],
      "metadata": {
        "id": "V1R7tKfIPEa0"
      }
    },
    {
      "cell_type": "code",
      "source": [
        "mask = np.array(np.clip(sparse_merge.getnnz(axis=0) - 1, 0, 1), dtype=bool)\n",
        "sparse_merge = sparse_merge[:, mask]"
      ],
      "metadata": {
        "id": "9-AKg7KAPF6J"
      },
      "execution_count": 28,
      "outputs": []
    },
    {
      "cell_type": "markdown",
      "source": [
        "Separate train and test data from sparse merge."
      ],
      "metadata": {
        "id": "pXJ8JzJxPH_y"
      }
    },
    {
      "cell_type": "code",
      "source": [
        "X = sparse_merge[:nrow_train]\n",
        "X_test = sparse_merge[nrow_train:]"
      ],
      "metadata": {
        "id": "OnPbs7d-PJS9"
      },
      "execution_count": 29,
      "outputs": []
    },
    {
      "cell_type": "markdown",
      "source": [
        "Create dataset for lightgbm."
      ],
      "metadata": {
        "id": "dllh4CEePO0v"
      }
    },
    {
      "cell_type": "code",
      "source": [
        "train_X = lgb.Dataset(X, label=y)"
      ],
      "metadata": {
        "id": "u4SM6mhwPQWw"
      },
      "execution_count": 30,
      "outputs": []
    },
    {
      "cell_type": "markdown",
      "source": [
        "Specify our parameters as a dict."
      ],
      "metadata": {
        "id": "DXKOJyN8PRxJ"
      }
    },
    {
      "cell_type": "code",
      "source": [
        "params = {\n",
        "        'learning_rate': 0.75,\n",
        "        'application': 'regression',\n",
        "        'max_depth': 3,\n",
        "        'num_leaves': 100,\n",
        "        'verbosity': -1,\n",
        "        'metric': 'RMSE',\n",
        "    }"
      ],
      "metadata": {
        "id": "-HnCUnllPTx5"
      },
      "execution_count": 31,
      "outputs": []
    },
    {
      "cell_type": "markdown",
      "source": [
        "1) Use ‘regression’ as application as we are dealing with a regression problem.\n",
        "\n",
        "2) Use ‘RMSE’ as metric because this is a regression problem.\n",
        "\n",
        "3) “num_leaves”=100 as\n",
        " our data is relative big.\n",
        "\n",
        "4) Use “max_depth” to avoid overfitting.\n",
        "Use “verbosity” to control the level of LightGBM’s verbosity (<0: Fatal).\n",
        "\n",
        "5) “learning_rate” determines the impact of each tree on the final outcome."
      ],
      "metadata": {
        "id": "ogDn0B6GPa2n"
      }
    },
    {
      "cell_type": "markdown",
      "source": [
        "# Training Start\n",
        "\n",
        "Training a model requires a parameter list and data set. And training will take a while."
      ],
      "metadata": {
        "id": "UQ8ZJLnuPq36"
      }
    },
    {
      "cell_type": "code",
      "source": [
        "gbm = lgb.train(params, train_set=train_X, num_boost_round=3200, verbose_eval=100)"
      ],
      "metadata": {
        "id": "Ei4X7q7ZPswq"
      },
      "execution_count": 32,
      "outputs": []
    },
    {
      "cell_type": "markdown",
      "source": [
        "# Predict"
      ],
      "metadata": {
        "id": "jbI6n9tzP0lr"
      }
    },
    {
      "cell_type": "code",
      "source": [
        "y_pred = gbm.predict(X_test, num_iteration=gbm.best_iteration)"
      ],
      "metadata": {
        "id": "88xGDO_DP16t"
      },
      "execution_count": 33,
      "outputs": []
    },
    {
      "cell_type": "markdown",
      "source": [
        "# Evaluation"
      ],
      "metadata": {
        "id": "RGnvFwdMP3t9"
      }
    },
    {
      "cell_type": "code",
      "source": [
        "from sklearn.metrics import mean_squared_error\n",
        "print('The rmse of prediction is:', mean_squared_error(y_test, y_pred) ** 0.5)"
      ],
      "metadata": {
        "colab": {
          "base_uri": "https://localhost:8080/"
        },
        "id": "PV1UNy0gP5kA",
        "outputId": "525ff20b-b66d-40fd-b423-e7e87258be50"
      },
      "execution_count": 34,
      "outputs": [
        {
          "output_type": "stream",
          "name": "stdout",
          "text": [
            "The rmse of prediction is: 0.4792735155517121\n"
          ]
        }
      ]
    }
  ]
}